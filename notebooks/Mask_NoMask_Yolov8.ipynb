{
  "nbformat": 4,
  "nbformat_minor": 0,
  "metadata": {
    "colab": {
      "provenance": [],
      "gpuType": "T4",
      "toc_visible": true
    },
    "kernelspec": {
      "name": "python3",
      "display_name": "Python 3"
    },
    "language_info": {
      "name": "python"
    },
    "accelerator": "GPU"
  },
  "cells": [
    {
      "cell_type": "markdown",
      "source": [
        "# Face Mask Detection (You-Only-Look-Once v8)\n",
        "\n",
        "\n",
        " ## Installation\n",
        "\n",
        " 1. Create a new environment\n",
        "\n",
        "```\n",
        "python -m venv .venv\n",
        ".venv/Scripts/activate # on windows\n",
        "source .venv/bin/activate\n",
        "```\n",
        "2. Install Dependencies\n",
        "\n",
        "```\n",
        "pip install -r requirements.txt\n",
        "```\n",
        "\n",
        "3. Run app for training\n",
        "\n",
        "```\n",
        "python main.py  \n",
        "\n",
        "```\n",
        "or perform inference from the cli using,\n",
        "\n",
        "```\n",
        "yolo predict model='models\\best.pt' source=' .mp4/.jpeg/etc'\n",
        "```\n",
        "\n",
        "## Summary\n",
        "- Object Detection - Trained on YOLOv8n.pt (Model underfits, checkpoints not added till yet)\n",
        "- Classification - Trained on YOLOv8n-cls.pt\n",
        "- Mask, No Mask Detection and Classification.\n",
        "- Custom Dataset (using CV). Labels corrected using OpenCV and observation.\n",
        "- Trained on YOLOv8, locally for both classification and object-detection.\n",
        "- Classification model available. Classes 0: Mask, 1: No-Mask\n",
        "- Checkpoint for classification - models/best.pt', object detection - yet to converge.\n",
        "- Helper functions for both classification and detection in utils/\n",
        "- Output video directory -> output-vids/\n",
        "  \n",
        "## Roadmap\n",
        "\n",
        "- More readability, more simplicity. Better code organisation.\n",
        "- Better documentation.\n",
        "- Deploy the model.\n",
        "- Try to achieve better accuracy on the same dataset.\n",
        "- Discuss with Senior CV Engineers on the exact same problem.\n"
      ],
      "metadata": {
        "id": "4Iczsa9Wth8a"
      }
    },
    {
      "cell_type": "markdown",
      "source": [
        "Please note: Please ignore the lack of proper formatting and enriching the colab document at the moment. Work under progress and under heavy-time constraints."
      ],
      "metadata": {
        "id": "F54Aq4XbpC15"
      }
    },
    {
      "cell_type": "code",
      "source": [
        "!nvidia-smi"
      ],
      "metadata": {
        "id": "_MlEiElgdCvv",
        "colab": {
          "base_uri": "https://localhost:8080/"
        },
        "outputId": "be16c01a-3bd3-4c27-cd52-0cdca5e2df9f"
      },
      "execution_count": 1,
      "outputs": [
        {
          "output_type": "stream",
          "name": "stdout",
          "text": [
            "/bin/bash: line 1: nvidia-smi: command not found\n"
          ]
        }
      ]
    },
    {
      "cell_type": "code",
      "source": [
        "!git clone https://github.com/Sh9hid/face-mask-detection.git"
      ],
      "metadata": {
        "id": "JAx6OIgrnq-s"
      },
      "execution_count": null,
      "outputs": []
    },
    {
      "cell_type": "code",
      "source": [
        "# Load your environment variables\n",
        "csv_file = '/content/drive/MyDrive/data/data/train.csv'\n",
        "images = '/content/drive/MyDrive/data/images'\n",
        "videos = '/content/drive/MyDrive/data/videos'\n"
      ],
      "metadata": {
        "id": "oBsZoZR2Pogh"
      },
      "execution_count": 2,
      "outputs": []
    },
    {
      "cell_type": "code",
      "source": [
        "# !pip install -r requirements.txt"
      ],
      "metadata": {
        "id": "4UDiAnNPbH5U"
      },
      "execution_count": null,
      "outputs": []
    },
    {
      "cell_type": "markdown",
      "source": [
        "\n",
        "```\n",
        "1. Preprocess: Clean Dataset.\n",
        "```\n",
        "\n"
      ],
      "metadata": {
        "id": "9n0vu4fCZjqF"
      }
    },
    {
      "cell_type": "markdown",
      "source": [
        "\n",
        "```\n",
        "# utils/clean.py\n",
        "# from config.config import FILE_PATH, IMAGES_DIR\n",
        "\n",
        "```\n",
        "\n"
      ],
      "metadata": {
        "id": "mKzFq34hZU5U"
      }
    },
    {
      "cell_type": "code",
      "source": [
        "FILE_PATH = csv_file\n",
        "IMAGES_DIR = images"
      ],
      "metadata": {
        "id": "qTkrhw5pZSRA"
      },
      "execution_count": 3,
      "outputs": []
    },
    {
      "cell_type": "code",
      "source": [
        "import os\n",
        "import pandas as pd\n",
        "import shutil\n",
        "from sklearn.model_selection import train_test_split\n",
        "\n",
        "\n",
        "def create_clean_csv(data):\n",
        "    \"\"\"\n",
        "    This function takes a dataset, cleans it, and saves it to a new CSV file.\n",
        "\n",
        "    Steps:\n",
        "    1. Handle duplicate entries\n",
        "    2. Resolve conflicts by choosing 'face_with_mask' over others\n",
        "    3. Categorize into relevant classnames\n",
        "    4. Drop rows where 'classname' is None\n",
        "    \"\"\"\n",
        "\n",
        "    # Exploratory Data Analysis\n",
        "    unique_class_names = data['classname'].unique()\n",
        "\n",
        "    # Step 1: Handle duplicate entries\n",
        "    data = data.drop_duplicates()\n",
        "\n",
        "    # Step 2: Resolve conflicts by choosing 'face_with_mask' over others\n",
        "    def resolve_conflict(group):\n",
        "        if 'face_with_mask' in group['classname'].values:\n",
        "            return group[group['classname'] == 'face_with_mask']\n",
        "        else:\n",
        "            return group.iloc[:1]\n",
        "\n",
        "    # Step 3: Categorize into relevant classnames\n",
        "    def map_classnames(classname):\n",
        "        if classname in ['face_with_mask', 'mask_colorful', 'mask_surgical',\n",
        "                         'face_other_covering', 'scarf_bandana']:\n",
        "            return 'mask'\n",
        "        elif classname in ['face_no_mask']:\n",
        "            return 'no_mask'\n",
        "\n",
        "    # Apply map_classnames function\n",
        "    data['classname'] = data['classname'].apply(map_classnames)\n",
        "\n",
        "    # Apply resolve conflicts function and group by name\n",
        "    data = data.groupby('name').apply(resolve_conflict).reset_index(drop=True)\n",
        "\n",
        "    # Step 4: Drop rows where 'classname' is None (if any)\n",
        "    data = data.dropna(subset=['classname'])\n",
        "\n",
        "    # Save the cleaned dataset to a new CSV file\n",
        "    output_path = 'data/cleaned_data.csv'\n",
        "    data.to_csv(output_path, index=False)\n",
        "\n",
        "    print(f\"Data processed successfully and saved to {output_path}\")\n",
        "\n",
        "\n",
        "# Copy useful images from the dataset for training.\n",
        "def process_images(data, IMAGES_DIR):\n",
        "    \"\"\"\n",
        "    This function selects useful images from the entire-dataset for training.\n",
        "\n",
        "    Steps:\n",
        "    1. Create a list of images.\n",
        "    2. Find useful images from the dataset for training.\n",
        "    3. Copy useful images to /data/images for training.\n",
        "    \"\"\"\n",
        "\n",
        "    # Step 1: Create a list of images.\n",
        "    images_list = list(data['name'])\n",
        "\n",
        "    # Step 2: Prepare the output directory for the images.\n",
        "    IMAGES_OUTPUT_DIRECTORY_PATH = 'data/images'\n",
        "    if not os.path.exists(IMAGES_OUTPUT_DIRECTORY_PATH):\n",
        "        os.makedirs(IMAGES_OUTPUT_DIRECTORY_PATH)\n",
        "\n",
        "    # Step 3: Copy useful images from the dataset to /data/images for training.\n",
        "    for image in images_list:\n",
        "        image_path = os.path.join(IMAGES_DIR, image)\n",
        "        try:\n",
        "            # Copy the image to the output directory.\n",
        "            shutil.copy(image_path, IMAGES_OUTPUT_DIRECTORY_PATH)\n",
        "        except Exception as e:\n",
        "            # Handle any exceptions that occur during the copying process.\n",
        "            print(f\"Error processing {image}: {str(e)}\")\n"
      ],
      "metadata": {
        "id": "BD2zk0MhmE9v"
      },
      "execution_count": 5,
      "outputs": []
    },
    {
      "cell_type": "markdown",
      "source": [
        "\n",
        "\n",
        "```\n",
        "2. Prepare training data: Labels and images\n",
        "# utils/train.py\n",
        "```\n",
        "\n"
      ],
      "metadata": {
        "id": "6dgtoF4TaAlh"
      }
    },
    {
      "cell_type": "code",
      "source": [
        "import os\n",
        "import pandas as pd\n",
        "import shutil\n",
        "from sklearn.model_selection import train_test_split\n",
        "from PIL import Image\n",
        "\n",
        "def split_and_copy_images(annotation_path, images_path, output_path):\n",
        "    # Load annotation data\n",
        "    annotations = pd.read_csv(annotation_path)\n",
        "\n",
        "    # Split data into training and validation sets\n",
        "    train_df, val_df = train_test_split(annotations, test_size=0.2, random_state=42)\n",
        "\n",
        "    TRAIN_IMAGES_DIR = os.path.join(output_path, 'train')\n",
        "    VAL_IMAGES_DIR = os.path.join(output_path, 'val')\n",
        "\n",
        "    # Get lists of images in each split\n",
        "    train_images = list(train_df['name'])\n",
        "    val_images = list(val_df['name'])\n",
        "\n",
        "    # Create directories for training and validation data for Classification Model.\n",
        "    directories = {\n",
        "        'train_mask': os.path.join(TRAIN_IMAGES_DIR, 'mask'),\n",
        "        'train_no_mask': os.path.join(TRAIN_IMAGES_DIR, 'no-mask'),\n",
        "        'val_mask': os.path.join(VAL_IMAGES_DIR, 'mask'),\n",
        "        'val_no_mask': os.path.join(VAL_IMAGES_DIR, 'no-mask')\n",
        "    }\n",
        "\n",
        "    # Create directories if they don't exist\n",
        "    for dir_path in directories.values():\n",
        "        os.makedirs(dir_path, exist_ok=True)\n",
        "\n",
        "    # Process images\n",
        "    for image_name in train_images + val_images:\n",
        "        source_path = os.path.join(images_path, image_name)\n",
        "\n",
        "        # Determine target directory based on split\n",
        "        if image_name in train_images:\n",
        "            split = 'train'\n",
        "        elif image_name in val_images:\n",
        "            split = 'val'\n",
        "        else:\n",
        "            print(f\"Warning: Image {image_name} not found in train or val images.\")\n",
        "            continue\n",
        "\n",
        "        # Determine class based on annotation\n",
        "        found = False\n",
        "        for index, row in annotations.iterrows():\n",
        "            if row['name'] == image_name:\n",
        "                found = True\n",
        "                class_dir = directories[f'{split}_{row[\"classname\"]}']\n",
        "                break\n",
        "\n",
        "        if not found:\n",
        "            print(f\"Warning: Image {image_name} not found in annotation.\")\n",
        "            continue\n",
        "\n",
        "        target_path = os.path.join(class_dir, image_name)\n",
        "\n",
        "        try:\n",
        "            shutil.copy(source_path, target_path)\n",
        "        except FileNotFoundError:\n",
        "            print(f\"Error: {source_path} not found.\")\n",
        "\n",
        "    print(f\"Data split into training and validation sets and copied to {TRAIN_IMAGES_DIR} and {VAL_IMAGES_DIR} respectively.\")\n"
      ],
      "metadata": {
        "id": "dlrHDytdmE0f"
      },
      "execution_count": null,
      "outputs": []
    },
    {
      "cell_type": "markdown",
      "source": [
        "\n",
        "\n",
        "```\n",
        "# 3. Train model\n",
        "```\n",
        "\n"
      ],
      "metadata": {
        "id": "HhlaBhOlnH4r"
      }
    },
    {
      "cell_type": "code",
      "source": [
        "!yolo classify train model='yolov8n-cls.pt' epochs=100 data='data/'"
      ],
      "metadata": {
        "id": "nFWDgQNbnHhy"
      },
      "execution_count": null,
      "outputs": []
    },
    {
      "cell_type": "code",
      "source": [
        "# Verify installation\n",
        "import ultralytics\n",
        "ultralytics.checks()"
      ],
      "metadata": {
        "id": "baBtcxbrQAOg",
        "colab": {
          "base_uri": "https://localhost:8080/"
        },
        "outputId": "dd119c49-f49d-4309-9179-8662dc00c86e"
      },
      "execution_count": null,
      "outputs": [
        {
          "output_type": "stream",
          "name": "stdout",
          "text": [
            "Ultralytics YOLOv8.2.34 🚀 Python-3.10.12 torch-2.3.0+cu121 CUDA:0 (Tesla T4, 15102MiB)\n",
            "Setup complete ✅ (2 CPUs, 12.7 GB RAM, 30.2/78.2 GB disk)\n"
          ]
        }
      ]
    },
    {
      "cell_type": "code",
      "source": [
        "# Load dataset from drive\n",
        "# data = path/to/your/dataset  Else, follow the above code for loading data on YOLOv8"
      ],
      "metadata": {
        "collapsed": true,
        "id": "kpUUI10WT300"
      },
      "execution_count": null,
      "outputs": []
    },
    {
      "cell_type": "code",
      "source": [
        "# Train existing model, higher epochs to prevent underfitting. May have to decrease, if model starts overfitting\n",
        "from ultralytics import YOLO\n",
        "model = YOLO('yolov8n-cls.pt')\n",
        "model.train(data=data, epochs=10)\n"
      ],
      "metadata": {
        "colab": {
          "base_uri": "https://localhost:8080/"
        },
        "id": "UnoQpiMY6kKy",
        "outputId": "a8e4759d-51a4-42d8-c40a-1e9605c29f7a"
      },
      "execution_count": null,
      "outputs": [
        {
          "output_type": "stream",
          "name": "stdout",
          "text": [
            "Downloading https://github.com/ultralytics/assets/releases/download/v8.2.0/yolov8n-cls.pt to 'yolov8n-cls.pt'...\n"
          ]
        },
        {
          "output_type": "stream",
          "name": "stderr",
          "text": [
            "100%|██████████| 5.30M/5.30M [00:00<00:00, 20.6MB/s]\n"
          ]
        },
        {
          "output_type": "stream",
          "name": "stdout",
          "text": [
            "Ultralytics YOLOv8.2.34 🚀 Python-3.10.12 torch-2.3.0+cu121 CUDA:0 (Tesla T4, 15102MiB)\n",
            "\u001b[34m\u001b[1mengine/trainer: \u001b[0mtask=classify, mode=train, model=yolov8n-cls.pt, data=/content/drive/MyDrive/data/data, epochs=10, time=None, patience=100, batch=16, imgsz=224, save=True, save_period=-1, cache=False, device=None, workers=8, project=None, name=train, exist_ok=False, pretrained=True, optimizer=auto, verbose=True, seed=0, deterministic=True, single_cls=False, rect=False, cos_lr=False, close_mosaic=10, resume=False, amp=True, fraction=1.0, profile=False, freeze=None, multi_scale=False, overlap_mask=True, mask_ratio=4, dropout=0.0, val=True, split=val, save_json=False, save_hybrid=False, conf=None, iou=0.7, max_det=300, half=False, dnn=False, plots=True, source=None, vid_stride=1, stream_buffer=False, visualize=False, augment=False, agnostic_nms=False, classes=None, retina_masks=False, embed=None, show=False, save_frames=False, save_txt=False, save_conf=False, save_crop=False, show_labels=True, show_conf=True, show_boxes=True, line_width=None, format=torchscript, keras=False, optimize=False, int8=False, dynamic=False, simplify=False, opset=None, workspace=4, nms=False, lr0=0.01, lrf=0.01, momentum=0.937, weight_decay=0.0005, warmup_epochs=3.0, warmup_momentum=0.8, warmup_bias_lr=0.1, box=7.5, cls=0.5, dfl=1.5, pose=12.0, kobj=1.0, label_smoothing=0.0, nbs=64, hsv_h=0.015, hsv_s=0.7, hsv_v=0.4, degrees=0.0, translate=0.1, scale=0.5, shear=0.0, perspective=0.0, flipud=0.0, fliplr=0.5, bgr=0.0, mosaic=1.0, mixup=0.0, copy_paste=0.0, auto_augment=randaugment, erasing=0.4, crop_fraction=1.0, cfg=None, tracker=botsort.yaml, save_dir=runs/classify/train\n",
            "\u001b[34m\u001b[1mtrain:\u001b[0m /content/drive/MyDrive/data/data/train... found 131 images in 2 classes ✅ \n",
            "\u001b[34m\u001b[1mval:\u001b[0m /content/drive/MyDrive/data/data/val... found 22 images in 2 classes ✅ \n",
            "\u001b[34m\u001b[1mtest:\u001b[0m None...\n",
            "Overriding model.yaml nc=1000 with nc=2\n",
            "\n",
            "                   from  n    params  module                                       arguments                     \n",
            "  0                  -1  1       464  ultralytics.nn.modules.conv.Conv             [3, 16, 3, 2]                 \n",
            "  1                  -1  1      4672  ultralytics.nn.modules.conv.Conv             [16, 32, 3, 2]                \n",
            "  2                  -1  1      7360  ultralytics.nn.modules.block.C2f             [32, 32, 1, True]             \n",
            "  3                  -1  1     18560  ultralytics.nn.modules.conv.Conv             [32, 64, 3, 2]                \n",
            "  4                  -1  2     49664  ultralytics.nn.modules.block.C2f             [64, 64, 2, True]             \n",
            "  5                  -1  1     73984  ultralytics.nn.modules.conv.Conv             [64, 128, 3, 2]               \n",
            "  6                  -1  2    197632  ultralytics.nn.modules.block.C2f             [128, 128, 2, True]           \n",
            "  7                  -1  1    295424  ultralytics.nn.modules.conv.Conv             [128, 256, 3, 2]              \n",
            "  8                  -1  1    460288  ultralytics.nn.modules.block.C2f             [256, 256, 1, True]           \n",
            "  9                  -1  1    332802  ultralytics.nn.modules.head.Classify         [256, 2]                      \n",
            "YOLOv8n-cls summary: 99 layers, 1440850 parameters, 1440850 gradients, 3.4 GFLOPs\n",
            "Transferred 156/158 items from pretrained weights\n",
            "\u001b[34m\u001b[1mTensorBoard: \u001b[0mStart with 'tensorboard --logdir runs/classify/train', view at http://localhost:6006/\n",
            "\u001b[34m\u001b[1mAMP: \u001b[0mrunning Automatic Mixed Precision (AMP) checks with YOLOv8n...\n",
            "Downloading https://github.com/ultralytics/assets/releases/download/v8.2.0/yolov8n.pt to 'yolov8n.pt'...\n"
          ]
        },
        {
          "output_type": "stream",
          "name": "stderr",
          "text": [
            "100%|██████████| 6.23M/6.23M [00:00<00:00, 24.4MB/s]\n",
            "/usr/local/lib/python3.10/dist-packages/torch/nn/modules/conv.py:456: UserWarning: Plan failed with a cudnnException: CUDNN_BACKEND_EXECUTION_PLAN_DESCRIPTOR: cudnnFinalize Descriptor Failed cudnn_status: CUDNN_STATUS_NOT_SUPPORTED (Triggered internally at ../aten/src/ATen/native/cudnn/Conv_v8.cpp:919.)\n",
            "  return F.conv2d(input, weight, bias, self.stride,\n"
          ]
        },
        {
          "output_type": "stream",
          "name": "stdout",
          "text": [
            "\u001b[34m\u001b[1mAMP: \u001b[0mchecks passed ✅\n"
          ]
        },
        {
          "output_type": "stream",
          "name": "stderr",
          "text": [
            "\u001b[34m\u001b[1mtrain: \u001b[0mScanning /content/drive/MyDrive/data/data/train... 131 images, 0 corrupt: 100%|██████████| 131/131 [00:00<?, ?it/s]\n",
            "/usr/lib/python3.10/multiprocessing/popen_fork.py:66: RuntimeWarning: os.fork() was called. os.fork() is incompatible with multithreaded code, and JAX is multithreaded, so this will likely lead to a deadlock.\n",
            "  self.pid = os.fork()\n",
            "\u001b[34m\u001b[1mval: \u001b[0mScanning /content/drive/MyDrive/data/data/val... 22 images, 0 corrupt: 100%|██████████| 22/22 [00:00<?, ?it/s]\n"
          ]
        },
        {
          "output_type": "stream",
          "name": "stdout",
          "text": [
            "\u001b[34m\u001b[1moptimizer:\u001b[0m 'optimizer=auto' found, ignoring 'lr0=0.01' and 'momentum=0.937' and determining best 'optimizer', 'lr0' and 'momentum' automatically... \n",
            "\u001b[34m\u001b[1moptimizer:\u001b[0m AdamW(lr=0.000714, momentum=0.9) with parameter groups 26 weight(decay=0.0), 27 weight(decay=0.0005), 27 bias(decay=0.0)\n",
            "\u001b[34m\u001b[1mTensorBoard: \u001b[0mmodel graph visualization added ✅\n",
            "Image sizes 224 train, 224 val\n",
            "Using 2 dataloader workers\n",
            "Logging results to \u001b[1mruns/classify/train\u001b[0m\n",
            "Starting training for 10 epochs...\n"
          ]
        },
        {
          "output_type": "stream",
          "name": "stderr",
          "text": [
            "/usr/lib/python3.10/multiprocessing/popen_fork.py:66: RuntimeWarning: os.fork() was called. os.fork() is incompatible with multithreaded code, and JAX is multithreaded, so this will likely lead to a deadlock.\n",
            "  self.pid = os.fork()\n"
          ]
        },
        {
          "output_type": "stream",
          "name": "stdout",
          "text": [
            "\n",
            "      Epoch    GPU_mem       loss  Instances       Size\n"
          ]
        },
        {
          "output_type": "stream",
          "name": "stderr",
          "text": [
            "       1/10     0.396G     0.5657         16        224:  22%|██▏       | 2/9 [00:23<01:07,  9.60s/it]"
          ]
        },
        {
          "output_type": "stream",
          "name": "stdout",
          "text": [
            "Downloading https://ultralytics.com/assets/Arial.ttf to '/root/.config/Ultralytics/Arial.ttf'...\n"
          ]
        },
        {
          "output_type": "stream",
          "name": "stderr",
          "text": [
            "\n",
            "  0%|          | 0.00/755k [00:00<?, ?B/s]\u001b[A\n",
            "100%|██████████| 755k/755k [00:00<00:00, 3.84MB/s]\n",
            "       1/10     0.396G     0.6062          3        224: 100%|██████████| 9/9 [01:33<00:00, 10.43s/it]\n",
            "               classes   top1_acc   top5_acc: 100%|██████████| 1/1 [00:00<00:00,  2.93it/s]"
          ]
        },
        {
          "output_type": "stream",
          "name": "stdout",
          "text": [
            "                   all      0.636          1\n"
          ]
        },
        {
          "output_type": "stream",
          "name": "stderr",
          "text": [
            "\n"
          ]
        },
        {
          "output_type": "stream",
          "name": "stdout",
          "text": [
            "\n",
            "      Epoch    GPU_mem       loss  Instances       Size\n"
          ]
        },
        {
          "output_type": "stream",
          "name": "stderr",
          "text": [
            "       2/10     0.371G     0.5396          3        224: 100%|██████████| 9/9 [00:34<00:00,  3.83s/it]\n",
            "               classes   top1_acc   top5_acc: 100%|██████████| 1/1 [00:00<00:00, 29.69it/s]"
          ]
        },
        {
          "output_type": "stream",
          "name": "stdout",
          "text": [
            "                   all      0.591          1\n"
          ]
        },
        {
          "output_type": "stream",
          "name": "stderr",
          "text": [
            "\n"
          ]
        },
        {
          "output_type": "stream",
          "name": "stdout",
          "text": [
            "\n",
            "      Epoch    GPU_mem       loss  Instances       Size\n"
          ]
        },
        {
          "output_type": "stream",
          "name": "stderr",
          "text": [
            "       3/10     0.375G     0.4911          3        224: 100%|██████████| 9/9 [00:34<00:00,  3.83s/it]\n",
            "               classes   top1_acc   top5_acc: 100%|██████████| 1/1 [00:00<00:00, 28.26it/s]"
          ]
        },
        {
          "output_type": "stream",
          "name": "stdout",
          "text": [
            "                   all      0.591          1\n"
          ]
        },
        {
          "output_type": "stream",
          "name": "stderr",
          "text": [
            "\n"
          ]
        },
        {
          "output_type": "stream",
          "name": "stdout",
          "text": [
            "\n",
            "      Epoch    GPU_mem       loss  Instances       Size\n"
          ]
        },
        {
          "output_type": "stream",
          "name": "stderr",
          "text": [
            "       4/10     0.373G     0.4753          3        224: 100%|██████████| 9/9 [00:33<00:00,  3.77s/it]\n",
            "               classes   top1_acc   top5_acc: 100%|██████████| 1/1 [00:00<00:00, 39.21it/s]"
          ]
        },
        {
          "output_type": "stream",
          "name": "stdout",
          "text": [
            "                   all      0.591          1\n"
          ]
        },
        {
          "output_type": "stream",
          "name": "stderr",
          "text": [
            "\n"
          ]
        },
        {
          "output_type": "stream",
          "name": "stdout",
          "text": [
            "\n",
            "      Epoch    GPU_mem       loss  Instances       Size\n"
          ]
        },
        {
          "output_type": "stream",
          "name": "stderr",
          "text": [
            "       5/10     0.375G     0.4434          3        224: 100%|██████████| 9/9 [00:37<00:00,  4.13s/it]\n",
            "               classes   top1_acc   top5_acc: 100%|██████████| 1/1 [00:00<00:00, 32.97it/s]"
          ]
        },
        {
          "output_type": "stream",
          "name": "stdout",
          "text": [
            "                   all      0.682          1\n"
          ]
        },
        {
          "output_type": "stream",
          "name": "stderr",
          "text": [
            "\n"
          ]
        },
        {
          "output_type": "stream",
          "name": "stdout",
          "text": [
            "\n",
            "      Epoch    GPU_mem       loss  Instances       Size\n"
          ]
        },
        {
          "output_type": "stream",
          "name": "stderr",
          "text": [
            "       6/10     0.373G     0.3692          3        224: 100%|██████████| 9/9 [00:34<00:00,  3.86s/it]\n",
            "               classes   top1_acc   top5_acc: 100%|██████████| 1/1 [00:00<00:00, 47.13it/s]"
          ]
        },
        {
          "output_type": "stream",
          "name": "stdout",
          "text": [
            "                   all      0.773          1\n"
          ]
        },
        {
          "output_type": "stream",
          "name": "stderr",
          "text": [
            "\n"
          ]
        },
        {
          "output_type": "stream",
          "name": "stdout",
          "text": [
            "\n",
            "      Epoch    GPU_mem       loss  Instances       Size\n"
          ]
        },
        {
          "output_type": "stream",
          "name": "stderr",
          "text": [
            "       7/10     0.375G     0.4045          3        224: 100%|██████████| 9/9 [00:35<00:00,  3.96s/it]\n",
            "               classes   top1_acc   top5_acc: 100%|██████████| 1/1 [00:00<00:00, 27.95it/s]"
          ]
        },
        {
          "output_type": "stream",
          "name": "stdout",
          "text": [
            "                   all      0.773          1\n"
          ]
        },
        {
          "output_type": "stream",
          "name": "stderr",
          "text": [
            "\n"
          ]
        },
        {
          "output_type": "stream",
          "name": "stdout",
          "text": [
            "\n",
            "      Epoch    GPU_mem       loss  Instances       Size\n"
          ]
        },
        {
          "output_type": "stream",
          "name": "stderr",
          "text": [
            "       8/10     0.373G     0.3283          3        224: 100%|██████████| 9/9 [00:34<00:00,  3.81s/it]\n",
            "               classes   top1_acc   top5_acc: 100%|██████████| 1/1 [00:00<00:00, 50.33it/s]"
          ]
        },
        {
          "output_type": "stream",
          "name": "stdout",
          "text": [
            "                   all      0.773          1\n"
          ]
        },
        {
          "output_type": "stream",
          "name": "stderr",
          "text": [
            "\n"
          ]
        },
        {
          "output_type": "stream",
          "name": "stdout",
          "text": [
            "\n",
            "      Epoch    GPU_mem       loss  Instances       Size\n"
          ]
        },
        {
          "output_type": "stream",
          "name": "stderr",
          "text": [
            "       9/10     0.375G     0.2866          3        224: 100%|██████████| 9/9 [00:34<00:00,  3.87s/it]\n",
            "               classes   top1_acc   top5_acc: 100%|██████████| 1/1 [00:00<00:00, 53.70it/s]"
          ]
        },
        {
          "output_type": "stream",
          "name": "stdout",
          "text": [
            "                   all      0.818          1\n"
          ]
        },
        {
          "output_type": "stream",
          "name": "stderr",
          "text": [
            "\n"
          ]
        },
        {
          "output_type": "stream",
          "name": "stdout",
          "text": [
            "\n",
            "      Epoch    GPU_mem       loss  Instances       Size\n"
          ]
        },
        {
          "output_type": "stream",
          "name": "stderr",
          "text": [
            "      10/10     0.375G     0.3001          3        224: 100%|██████████| 9/9 [00:36<00:00,  4.00s/it]\n",
            "               classes   top1_acc   top5_acc: 100%|██████████| 1/1 [00:00<00:00, 38.94it/s]"
          ]
        },
        {
          "output_type": "stream",
          "name": "stdout",
          "text": [
            "                   all      0.818          1\n"
          ]
        },
        {
          "output_type": "stream",
          "name": "stderr",
          "text": [
            "\n"
          ]
        },
        {
          "output_type": "stream",
          "name": "stdout",
          "text": [
            "\n",
            "10 epochs completed in 0.121 hours.\n",
            "Optimizer stripped from runs/classify/train/weights/last.pt, 3.0MB\n",
            "Optimizer stripped from runs/classify/train/weights/best.pt, 3.0MB\n",
            "\n",
            "Validating runs/classify/train/weights/best.pt...\n",
            "Ultralytics YOLOv8.2.34 🚀 Python-3.10.12 torch-2.3.0+cu121 CUDA:0 (Tesla T4, 15102MiB)\n",
            "YOLOv8n-cls summary (fused): 73 layers, 1437442 parameters, 0 gradients, 3.3 GFLOPs\n",
            "\u001b[34m\u001b[1mtrain:\u001b[0m /content/drive/MyDrive/data/data/train... found 131 images in 2 classes ✅ \n",
            "\u001b[34m\u001b[1mval:\u001b[0m /content/drive/MyDrive/data/data/val... found 22 images in 2 classes ✅ \n",
            "\u001b[34m\u001b[1mtest:\u001b[0m None...\n"
          ]
        },
        {
          "output_type": "stream",
          "name": "stderr",
          "text": [
            "               classes   top1_acc   top5_acc: 100%|██████████| 1/1 [00:00<00:00, 11.99it/s]\n"
          ]
        },
        {
          "output_type": "stream",
          "name": "stdout",
          "text": [
            "                   all      0.818          1\n",
            "Speed: 0.3ms preprocess, 0.9ms inference, 0.0ms loss, 0.0ms postprocess per image\n",
            "Results saved to \u001b[1mruns/classify/train\u001b[0m\n",
            "Results saved to \u001b[1mruns/classify/train\u001b[0m\n"
          ]
        },
        {
          "output_type": "execute_result",
          "data": {
            "text/plain": [
              "ultralytics.utils.metrics.ClassifyMetrics object with attributes:\n",
              "\n",
              "confusion_matrix: <ultralytics.utils.metrics.ConfusionMatrix object at 0x782a8844b5b0>\n",
              "curves: []\n",
              "curves_results: []\n",
              "fitness: 0.9090909063816071\n",
              "keys: ['metrics/accuracy_top1', 'metrics/accuracy_top5']\n",
              "results_dict: {'metrics/accuracy_top1': 0.8181818127632141, 'metrics/accuracy_top5': 1.0, 'fitness': 0.9090909063816071}\n",
              "save_dir: PosixPath('runs/classify/train')\n",
              "speed: {'preprocess': 0.29229034077037463, 'inference': 0.9059039029208096, 'loss': 0.0006719069047407671, 'postprocess': 0.0006393952803178266}\n",
              "task: 'classify'\n",
              "top1: 0.8181818127632141\n",
              "top5: 1.0"
            ]
          },
          "metadata": {},
          "execution_count": 6
        }
      ]
    },
    {
      "cell_type": "code",
      "source": [
        "# Save the model\n",
        "!yolo export model=yolov8n-trained-onnx.pt format=onnx"
      ],
      "metadata": {
        "colab": {
          "base_uri": "https://localhost:8080/"
        },
        "id": "H6tMGqou7ZCP",
        "outputId": "d05eabdb-44cb-4581-ca15-6f9efd200e35"
      },
      "execution_count": null,
      "outputs": [
        {
          "output_type": "stream",
          "name": "stdout",
          "text": [
            "/bin/bash: line 1: yolo: command not found\n"
          ]
        }
      ]
    },
    {
      "cell_type": "code",
      "source": [
        "# TODO : Add Inference loader\n",
        "filepath = '/content/drive/MyDrive/data/data/val/mask/3720.png'"
      ],
      "metadata": {
        "id": "4e6AXFUZqiM_"
      },
      "execution_count": null,
      "outputs": []
    },
    {
      "cell_type": "code",
      "source": [
        "results = model(video_path)"
      ],
      "metadata": {
        "id": "0XuzFh_G-tnO"
      },
      "execution_count": null,
      "outputs": []
    },
    {
      "cell_type": "markdown",
      "source": [
        "\n",
        "\n",
        "\n",
        "```\n",
        " Object Detection - utils\\prepare_od.py and train_od.py\n",
        "```\n",
        "\n"
      ],
      "metadata": {
        "id": "prjVCaEMoqD-"
      }
    },
    {
      "cell_type": "markdown",
      "source": [
        " TODO: Ask for better solution to the problem. I noticed a pattern of labels and went for a more brute force approach. Fill this document. \\"
      ],
      "metadata": {
        "id": "HwrGUhRvpiEU"
      }
    },
    {
      "cell_type": "code",
      "source": [
        "import os\n",
        "import shutil\n",
        "from PIL import Image\n",
        "import pandas as pd\n",
        "from sklearn.model_selection import train_test_split\n",
        "\n",
        "def prepare_data(train_df, val_df):\n",
        "    \"\"\"\n",
        "    Directories is a dictionary for creating objection detection\n",
        "    preparation data as per YOLO format.\n",
        "\n",
        "    \"\"\"\n",
        "    directories = {\n",
        "        'TRAIN_IMAGES_DIR': 'data/data_od/images/train',\n",
        "        'VAL_IMAGES_DIR': 'data/data_od/images/val',\n",
        "        'TRAIN_LABELS_DIR': 'data/data_od/labels/train',\n",
        "        'VAL_LABELS_DIR': 'data/data_od/labels/val'\n",
        "    }\n",
        "\n",
        "    for dir in directories.values():\n",
        "        os.makedirs(dir, exist_ok=True)\n",
        "\n",
        "    for index, row in train_df.iterrows():\n",
        "        filename = row['name']\n",
        "        shutil.copy(f'data/images/{filename}', directories['TRAIN_IMAGES_DIR'])\n",
        "\n",
        "    for index, row in val_df.iterrows():\n",
        "        filename = row['name']\n",
        "        shutil.copy(f'data/images/{filename}', directories['VAL_IMAGES_DIR'])\n",
        "\n",
        "    return directories\n",
        "\n",
        "def get_image_dimensions(image_path):\n",
        "    with Image.open(image_path) as img:\n",
        "        return img.size\n",
        "\n",
        "def fix_labels(image_width, image_height, boxes):\n",
        "    \"\"\"\n",
        "    TODO : Write Docs\n",
        "\n",
        "    \"\"\"\n",
        "    min_x1 = image_width\n",
        "    min_y1 = image_height\n",
        "    max_x2 = 0\n",
        "    max_y2 = 0\n",
        "\n",
        "    for x1, y1, x2, y2, label in boxes:\n",
        "        min_x1 = min(min_x1, x1)\n",
        "        min_y1 = min(min_y1, y1)\n",
        "        max_x2 = max(max_x2, x2)\n",
        "        max_y2 = max(max_y2, y2)\n",
        "\n",
        "    center_x = (min_x1 + max_x2) // 2\n",
        "    center_y = (min_y1 + max_y2) // 2\n",
        "\n",
        "    new_width = int(image_width * 0.8)\n",
        "    new_height = int(image_height * 0.8)\n",
        "\n",
        "    new_x1 = max(0, center_x - new_width // 2)\n",
        "    new_y1 = max(0, center_y - new_height // 2)\n",
        "    new_x2 = min(image_width, center_x + new_width // 2)\n",
        "    new_y2 = min(image_height, center_y + new_height // 2)\n",
        "\n",
        "    return [(new_x1, new_y1, new_x2, new_y2, label)]\n",
        "\n",
        "def create_yolo_labels(df, dir):\n",
        "    \"\"\"\n",
        "    TODO : Write Docs\n",
        "\n",
        "    \"\"\"\n",
        "    for index, row in df.iterrows():\n",
        "        filename = row['name']\n",
        "        image_path = os.path.join('data/images', f'{filename}')\n",
        "\n",
        "        try:\n",
        "            img_width, img_height = get_image_dimensions(image_path)\n",
        "        except Exception as e:\n",
        "            print(f\"Error opening image {filename}: {e}. Skipping...\")\n",
        "            continue\n",
        "\n",
        "        x1, x2, y1, y2 = row['x1'], row['x2'], row['y1'], row['y2']\n",
        "\n",
        "        boxes = [(x1, y1, x2, y2, 0 if row['classname'] == 'mask' else 1)]\n",
        "        boxes = fix_labels(img_width, img_height, boxes)\n",
        "\n",
        "        for new_x1, new_y1, new_x2, new_y2, class_id in boxes:\n",
        "            new_width = new_x2 - new_x1\n",
        "            new_height = new_y2 - new_y1\n",
        "\n",
        "            new_x_center = (new_x1 + new_x2) / 2.0\n",
        "            new_y_center = (new_y1 + new_y2) / 2.0\n",
        "\n",
        "            new_x_center /= img_width\n",
        "            new_y_center /= img_height\n",
        "            new_width /= img_width\n",
        "            new_height /= img_height\n",
        "\n",
        "            if not (0 <= new_x_center <= 1 and 0 <= new_y_center <= 1 and 0 <= new_width <= 1 and 0 <= new_height <= 1):\n",
        "                print(f\"Invalid normalized coordinates for {filename}. Skipping...\")\n",
        "                continue\n",
        "\n",
        "            label_path = os.path.join(dir, f'{filename[:4]}.txt')\n",
        "            with open(label_path, 'w') as f:\n",
        "                f.write(f'{class_id} {new_x_center} {new_y_center} {new_width} {new_height}\\n')\n",
        "\n",
        "\n",
        "annotations = pd.read_csv(FILE_PATH)\n",
        "\n",
        "# Split data into training and validation sets\n",
        "train_df, val_df = train_test_split(annotations, test_size=0.2, random_state=42)\n",
        "\n",
        "directories = prepare_data(train_df, val_df)\n",
        "\n",
        "create_yolo_labels(train_df, directories['TRAIN_LABELS_DIR'])\n",
        "create_yolo_labels(val_df, directories['VAL_LABELS_DIR'])\n"
      ],
      "metadata": {
        "id": "5kdI3Tb7oph5"
      },
      "execution_count": null,
      "outputs": []
    },
    {
      "cell_type": "code",
      "source": [
        "# yolo train object detection model\n",
        "!yolo model=yolov8n.pt data=mask_detection.yaml epochs=100"
      ],
      "metadata": {
        "id": "XZdeiXSe-2NI"
      },
      "execution_count": null,
      "outputs": []
    },
    {
      "cell_type": "markdown",
      "source": [
        "\n",
        "\n",
        "```\n",
        " Running Inference\n",
        "```\n",
        "\n"
      ],
      "metadata": {
        "id": "_8nORJ4Qsx8Q"
      }
    },
    {
      "cell_type": "code",
      "source": [
        "# classification model\n",
        "!yolo classify predict model=yolov8n-cls-trained.pt source=path/to/vid"
      ],
      "metadata": {
        "id": "Uy-S380Rs2Pd"
      },
      "execution_count": null,
      "outputs": []
    },
    {
      "cell_type": "code",
      "source": [
        "# object detection model\n",
        "!yolo detect predict model=yolov8n-trained.pt source=path/to/vid"
      ],
      "metadata": {
        "id": "Lj0zuu14tPuY"
      },
      "execution_count": null,
      "outputs": []
    },
    {
      "cell_type": "code",
      "source": [],
      "metadata": {
        "id": "Bvr0zOVitmO-"
      },
      "execution_count": null,
      "outputs": []
    }
  ]
}